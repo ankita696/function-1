{
  "nbformat": 4,
  "nbformat_minor": 0,
  "metadata": {
    "colab": {
      "provenance": []
    },
    "kernelspec": {
      "name": "python3",
      "display_name": "Python 3"
    },
    "language_info": {
      "name": "python"
    }
  },
  "cells": [
    {
      "cell_type": "code",
      "execution_count": null,
      "metadata": {
        "id": "u2osbNp981r-"
      },
      "outputs": [],
      "source": []
    },
    {
      "cell_type": "markdown",
      "source": [
        "\n"
      ],
      "metadata": {
        "id": "u7lSdZCz9WEu"
      }
    },
    {
      "cell_type": "markdown",
      "source": [
        "#functions\n"
      ],
      "metadata": {
        "id": "E9QTQTgb9sn_"
      }
    },
    {
      "cell_type": "markdown",
      "source": [
        "1 what is the difference between  a phython and method in phython\n",
        ". a function is independent and can be called from anywhere ,where a method is tied to a. class or object and must be called on that object or within that class.\n",
        "2 second question\n",
        ".this is the answer for second question"
      ],
      "metadata": {
        "id": "h5QmEaTY9-AV"
      }
    },
    {
      "cell_type": "code",
      "source": [
        "# question\n",
        "...\n",
        "this is answer\n",
        "...\n",
        "this is answer\n",
        "..."
      ],
      "metadata": {
        "id": "0wrQdVatGDOV"
      },
      "execution_count": null,
      "outputs": []
    }
  ]
}